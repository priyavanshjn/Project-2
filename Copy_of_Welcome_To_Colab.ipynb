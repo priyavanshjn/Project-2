{
  "cells": [
    {
      "cell_type": "markdown",
      "metadata": {
        "id": "view-in-github",
        "colab_type": "text"
      },
      "source": [
        "<a href=\"https://colab.research.google.com/github/priyavanshjn/Project-2/blob/main/Copy_of_Welcome_To_Colab.ipynb\" target=\"_parent\"><img src=\"https://colab.research.google.com/assets/colab-badge.svg\" alt=\"Open In Colab\"/></a>"
      ]
    },
    {
      "cell_type": "markdown",
      "source": [
        "Q1.L is a list defined as L= [11, 12, 13, 14].\n",
        "(i) WAP to add 50 and 60 to L.\n",
        "(ii) WAP to remove 11 and 13from L.\n",
        "(iii) WAP to sort L in ascending order.\n",
        "(iv) WAP to sort L in descending order.\n",
        "(v) WAP to search for 13 in L.\n",
        "(vi) WAP to count the number of elements present in L.\n",
        "(vii) WAP to sum all the elements in L.\n",
        "(viii) WAP to sum all ODD numbers in L.\n",
        "(ix) WAP to sum all EVEN numbers in L.\n",
        "(x) WAP to sum all PRIME numbers in L.\n",
        "(xi) WAP to clear all the elements in L.\n",
        "(xii) WAP to delete L."
      ],
      "metadata": {
        "id": "5zAx1nlP59Fa"
      }
    },
    {
      "cell_type": "code",
      "source": [
        "L = [11, 12, 13, 14]\n",
        "#add elemt using append\n",
        "L.append(50)\n",
        "L.append(60)\n",
        "print(L)\n",
        "#delete element using remove\n",
        "L.remove(11)\n",
        "L.remove(13)\n",
        "print(L)\n",
        "#sort elements\n",
        "L.sort()\n",
        "print(L)\n",
        "L.sort(reverse=True)\n",
        "print(L)\n",
        "#searching element\n",
        "if 13 in L:\n",
        "    print(\"present\")\n",
        "else:\n",
        "    print(\"absent\")\n",
        "#print length\n",
        "print(len(L))\n",
        "#sum of elements\n",
        "print(sum(L))\n",
        "#sum of odd\n",
        "print(\"sum of odd=\",sum(x for x in L if x % 2 != 0))\n",
        "#sum of even\n",
        "print(\"sum of even=\",sum(x for x in L if x % 2 == 0))\n",
        "#sum of prime\n",
        "def is_prime(n):\n",
        "    if n < 2:\n",
        "        return False\n",
        "    for i in range(2, n//2+1):\n",
        "        if n % i == 0:\n",
        "            return False\n",
        "    return True\n",
        "\n",
        "print(sum(x for x in L if is_prime(x)))\n",
        "#clear list\n",
        "L.clear()\n",
        "print(L)\n",
        "#delete list\n",
        "del L\n"
      ],
      "metadata": {
        "colab": {
          "base_uri": "https://localhost:8080/"
        },
        "id": "30e0s8Oj7UZy",
        "outputId": "0b1c70e4-8f62-4e55-b50b-7bf54e97d36a"
      },
      "execution_count": null,
      "outputs": [
        {
          "output_type": "stream",
          "name": "stdout",
          "text": [
            "[11, 12, 13, 14, 50, 60]\n",
            "[12, 14, 50, 60]\n",
            "[12, 14, 50, 60]\n",
            "[60, 50, 14, 12]\n",
            "absent\n",
            "4\n",
            "136\n",
            "sum of odd= 0\n",
            "sum of even= 136\n",
            "0\n",
            "[]\n"
          ]
        }
      ]
    },
    {
      "cell_type": "markdown",
      "source": [
        "Q2. D is a dictionary defined as D= {1:5.6, 2:7.8, 3:6.6, 4:8.7, 5:7.7}.\n",
        "(i)  WAP to add new entry in D; key=8 and value is 8.8\n",
        "(ii) WAP to remove key=2.\n",
        "(iii) WAP to check weather 6 key is present in D.\n",
        "(iv) WAP to count the number of elements present in D.\n",
        "(v) WAP to add all the values present D.\n",
        "(vi) WAP to update the value of 3 to 7.1.\n",
        "(vii)WAP to clear the dictionary.\n"
      ],
      "metadata": {
        "id": "rmPmJFUZAWCU"
      }
    },
    {
      "cell_type": "code",
      "source": [
        "#dictionary operation\n",
        "D = {1:5.6, 2:7.8, 3:6.6, 4:8.7, 5:7.7}\n",
        "#adding\n",
        "D[8] = 8.8\n",
        "print(\"after adding=\",D)\n",
        "#pop element\n",
        "D.pop(2)\n",
        "print(\"after pop=\",D)\n",
        "#find element\n",
        "print(6 in D)\n",
        "#print length\n",
        "print(len(D))\n",
        "#print sum\n",
        "print(\"sum=\",sum(D.values()))\n",
        "#update value\n",
        "D[3] = 7.1\n",
        "print(\"after update\",D)\n",
        "#for clear\n",
        "D.clear()\n"
      ],
      "metadata": {
        "colab": {
          "base_uri": "https://localhost:8080/"
        },
        "id": "chGkSls1A1fZ",
        "outputId": "54789640-a4c8-4f44-f5ad-20c60818e696"
      },
      "execution_count": null,
      "outputs": [
        {
          "output_type": "stream",
          "name": "stdout",
          "text": [
            "after adding= {1: 5.6, 2: 7.8, 3: 6.6, 4: 8.7, 5: 7.7, 8: 8.8}\n",
            "after pop= {1: 5.6, 3: 6.6, 4: 8.7, 5: 7.7, 8: 8.8}\n",
            "False\n",
            "5\n",
            "sum= 37.4\n",
            "after update {1: 5.6, 3: 7.1, 4: 8.7, 5: 7.7, 8: 8.8}\n"
          ]
        }
      ]
    },
    {
      "cell_type": "markdown",
      "source": [
        "Q3. S1 is a set defined as S1= [10, 20, 30, 40, 50, 60].\n",
        "S2 is a set defined as S2= [40, 50, 60, 70, 80, 90].\n",
        "(i)  WAP to add 55 and 66 in Set S1.\n",
        "(ii) WAP to remove 10 and 30 from Set S1.\n",
        "(iii) WAP to check whether 40 is present in S1.\n",
        "(iv) WAP to find the union between S1 and S2.\n",
        "(v) WAP to find the intersection between S1 and S2.\n",
        "(vi) WAP to find the S1 - S2."
      ],
      "metadata": {
        "id": "E8tZT9eAF4Ue"
      }
    },
    {
      "cell_type": "code",
      "source": [
        "#Set operations\n",
        "S1 = {10, 20, 30, 40, 50, 60}\n",
        "S2 = {40, 50, 60, 70, 80, 90}\n",
        "#Adding\n",
        "S1.add(55)\n",
        "S1.add(66)\n",
        "print(\"after adding=\",S1)\n",
        "#Removing\n",
        "S1.remove(10)\n",
        "S1.remove(30)\n",
        "print(\"after removing=\",S1)\n",
        "#Check\n",
        "print(40 in S1)\n",
        "#union\n",
        "print(\"union\",S1.union(S2))\n",
        "#intersection\n",
        "print(\"intersection\",S1.intersection(S2))\n",
        "#difference\n",
        "print(\"difference\",S1.difference(S2))\n"
      ],
      "metadata": {
        "colab": {
          "base_uri": "https://localhost:8080/"
        },
        "id": "byqu4kXOGXR-",
        "outputId": "8c77ba4d-21f5-4a8f-b4f1-1fcbb0c72fd8"
      },
      "execution_count": null,
      "outputs": [
        {
          "output_type": "stream",
          "name": "stdout",
          "text": [
            "after adding= {50, 66, 20, 55, 40, 10, 60, 30}\n",
            "after removing= {50, 66, 20, 55, 40, 60}\n",
            "True\n",
            "union {66, 70, 40, 80, 50, 20, 55, 90, 60}\n",
            "intersection {40, 50, 60}\n",
            "difference {66, 20, 55}\n"
          ]
        }
      ]
    },
    {
      "cell_type": "markdown",
      "source": [
        "Q4. Write the following program.\n",
        "(i) WAP to print 100 random strings whose length between 6 and 8.\n",
        " (ii) WAP to print all prime numbers between 600 and 800.\n",
        "(iii)WAP to print all numbers between 100 and 1000 that are divisible by7 and 9."
      ],
      "metadata": {
        "id": "LXtcuExAH_rT"
      }
    },
    {
      "cell_type": "code",
      "source": [
        "#print random string\n",
        "import random\n",
        "import string\n",
        "\n",
        "for i in range(100):\n",
        "    length = random.randint(6, 8)\n",
        "    rand_str = ''.join(random.choices(string.ascii_letters , k=length))\n",
        "    print(rand_str)\n",
        "#print prime number\n",
        "def is_prime(n):\n",
        "    if n < 2:\n",
        "        return False\n",
        "    for i in range(2, int(n//2)+1):\n",
        "        if n % i == 0:\n",
        "            return False\n",
        "    return True\n",
        "\n",
        "for i in range(600, 801):\n",
        "    if is_prime(i):\n",
        "        print(i)\n",
        "#print divsible  number between 7 and 9\n",
        "for i in range(100, 1001):\n",
        "    if i % 7 == 0 and i % 9 == 0:\n",
        "        print(i)\n"
      ],
      "metadata": {
        "colab": {
          "base_uri": "https://localhost:8080/"
        },
        "id": "XJ_xVoJtIGi0",
        "outputId": "ab11b3a5-3326-41c9-a9d2-0ac9fd07f4c2"
      },
      "execution_count": null,
      "outputs": [
        {
          "output_type": "stream",
          "name": "stdout",
          "text": [
            "USGjKsSx\n",
            "mySBFhC\n",
            "ihTonM\n",
            "illazxD\n",
            "sHfhwbRc\n",
            "Tvrapfki\n",
            "eYxIuFgK\n",
            "sqBAsOCU\n",
            "ExUGCsB\n",
            "rIgejffO\n",
            "RigTuOJz\n",
            "cmiVwa\n",
            "tTqjcFa\n",
            "MeGViIv\n",
            "wwTRjM\n",
            "DjDcWfEV\n",
            "cmrCAV\n",
            "gPYTXnae\n",
            "OyTLtVOq\n",
            "VpNPJTsR\n",
            "nEBNzr\n",
            "WkBVBrbO\n",
            "XXKCOu\n",
            "xCHASbg\n",
            "JMWqbwKE\n",
            "RALJvzwN\n",
            "wSGyjgPR\n",
            "mTSJpowS\n",
            "qOPzhQ\n",
            "ufMIvKv\n",
            "FlzrpjtC\n",
            "JqnRFee\n",
            "nTSXQEMO\n",
            "bVzEfJUL\n",
            "VyvptsRh\n",
            "cwgUdtBV\n",
            "QUgqWFM\n",
            "pMyHWiyb\n",
            "dKYilcI\n",
            "rJePzM\n",
            "QSydQTel\n",
            "cUAeiOZ\n",
            "JvRjxHm\n",
            "Pvtaip\n",
            "eMcLSoL\n",
            "ecPVtDA\n",
            "NhCHvXP\n",
            "eFtmrkO\n",
            "sJXzItJl\n",
            "gYNdLAVk\n",
            "PbPxxWdK\n",
            "vHWMeHVj\n",
            "DiUHZRPV\n",
            "PrJIQc\n",
            "wMdYjVWu\n",
            "XaGRVBR\n",
            "zrotevJ\n",
            "mvSXGw\n",
            "DJRALM\n",
            "CQQmAgbE\n",
            "KZqCvQ\n",
            "tYtWfY\n",
            "yrJgNYdd\n",
            "XPvVVvIO\n",
            "UBQKgfmE\n",
            "WvgVEgOz\n",
            "Nmglxs\n",
            "KdwKFxQ\n",
            "PTWSRzA\n",
            "NHheIjVP\n",
            "lAVpnH\n",
            "otWHIny\n",
            "PIIfCt\n",
            "TGdcZg\n",
            "nAbsnUgO\n",
            "hVkrHVEf\n",
            "ehoXXyN\n",
            "GNRcEX\n",
            "udHsUp\n",
            "ubrtFHGI\n",
            "BEQwLv\n",
            "HLCuoz\n",
            "aBCOCISG\n",
            "WjBcyAa\n",
            "HiyzGZp\n",
            "lOPZfisz\n",
            "jKpxIW\n",
            "nffcQiB\n",
            "TUYxIho\n",
            "HcqcHywF\n",
            "mcYUUCi\n",
            "IovyQuv\n",
            "uKKmNWp\n",
            "Dekwio\n",
            "Dgimuwz\n",
            "kpyiUr\n",
            "ibDIMhF\n",
            "qLFIdK\n",
            "QQcSnVRS\n",
            "UMujDy\n",
            "601\n",
            "607\n",
            "613\n",
            "617\n",
            "619\n",
            "631\n",
            "641\n",
            "643\n",
            "647\n",
            "653\n",
            "659\n",
            "661\n",
            "673\n",
            "677\n",
            "683\n",
            "691\n",
            "701\n",
            "709\n",
            "719\n",
            "727\n",
            "733\n",
            "739\n",
            "743\n",
            "751\n",
            "757\n",
            "761\n",
            "769\n",
            "773\n",
            "787\n",
            "797\n",
            "126\n",
            "189\n",
            "252\n",
            "315\n",
            "378\n",
            "441\n",
            "504\n",
            "567\n",
            "630\n",
            "693\n",
            "756\n",
            "819\n",
            "882\n",
            "945\n"
          ]
        }
      ]
    },
    {
      "cell_type": "markdown",
      "source": [
        "Q5. WAP to create two lists of 10 random numbers between 10 and 30; Find\n",
        "(i)Common numbers in the two lists\n",
        "(ii) Unique numbers in both the list\n",
        "(iii)Minimum in both the list\n",
        "(iv) Maximum in both the list\n",
        "(v) Sum of both the lists"
      ],
      "metadata": {
        "id": "4jOMqA9yK37R"
      }
    },
    {
      "cell_type": "code",
      "source": [
        "import random\n",
        "\n",
        "# Create two lists with 10 random numbers between 10 and 30\n",
        "list1 = [random.randint(10, 30) for i in range(10)]\n",
        "list2 = [random.randint(10, 30) for i in range(10)]\n",
        "\n",
        "print(\"List 1:\", list1)\n",
        "print(\"List 2:\", list2)\n",
        "\n",
        "# Common numbers\n",
        "common = list(set(list1) & set(list2))\n",
        "print(\"Common numbers:\", common)\n",
        "\n",
        "# Unique numbers in both lists\n",
        "unique = list(set(list1) ^ set(list2))\n",
        "print(\"Unique numbers =\", unique)\n",
        "\n",
        "# Minimum in both lists\n",
        "print(\"Min in List 1=\", min(list1))\n",
        "print(\"Min in List 2=\", min(list2))\n",
        "\n",
        "# Maximum in both lists\n",
        "print(\"Max in List 1=\", max(list1))\n",
        "print(\"Max in  List 2=\", max(list2))\n",
        "\n",
        "# Sum of both lists\n",
        "print(\"Sum of List 1=\", sum(list1))\n",
        "print(\"Sum of List 2=\", sum(list2))\n",
        "print(\"Total =\", sum(list1) + sum(list2))\n"
      ],
      "metadata": {
        "colab": {
          "base_uri": "https://localhost:8080/"
        },
        "id": "wAmcnMA7L2Vu",
        "outputId": "d137bca8-b3a3-49b4-8607-ced6dae7fccc"
      },
      "execution_count": null,
      "outputs": [
        {
          "output_type": "stream",
          "name": "stdout",
          "text": [
            "List 1: [13, 13, 16, 21, 13, 17, 19, 28, 27, 20]\n",
            "List 2: [11, 23, 26, 10, 17, 19, 14, 19, 12, 20]\n",
            "Common numbers: [17, 19, 20]\n",
            "Unique numbers = [10, 11, 12, 13, 14, 16, 21, 23, 26, 27, 28]\n",
            "Min in List 1= 13\n",
            "Min in List 2= 10\n",
            "Max in List 1= 28\n",
            "Max in  List 2= 26\n",
            "Sum of List 1= 187\n",
            "Sum of List 2= 171\n",
            "Total = 358\n"
          ]
        }
      ]
    },
    {
      "cell_type": "markdown",
      "source": [
        "Q6. WAP to create a list of 100 random numbers between 100 and 900. Count and print the:\n",
        "(i) All odd numbers\n",
        "(ii) All even numbers\n",
        "(iii) All prime numbers"
      ],
      "metadata": {
        "id": "1dBjW9UnNC89"
      }
    },
    {
      "cell_type": "code",
      "source": [
        "import random\n",
        "\n",
        "# Create a list of 100 random numbers between 100 and 900\n",
        "numbers = [random.randint(100, 900) for i in range(100)]\n",
        "\n",
        "# (i) All odd numbers\n",
        "odd_numbers = [x for x in numbers if x % 2 != 0]\n",
        "print(\"Odd numbers:\", odd_numbers)\n",
        "print(\"Count of odd=\", len(odd_numbers))\n",
        "\n",
        "# (ii) All even numbers\n",
        "even_numbers= [x for x in numbers if x % 2 == 0]\n",
        "print(\"Even numbers:\", even_numbers)\n",
        "print(\"Count of even =\", len(even_numbers))\n",
        "\n",
        "# (iii) All prime numbers\n",
        "def is_prime(n):\n",
        "    if n < 2:\n",
        "        return False\n",
        "    for i in range(2, int(n//2) + 1):\n",
        "        if n % i == 0:\n",
        "            return False\n",
        "    return True\n",
        "\n",
        "prime_numbers = [x for x in numbers if is_prime(x)]\n",
        "print(\"Prime numbers=\", prime_numbers)\n",
        "print(\"Count of prime numbers=\", len(prime_numbers))\n",
        "\n",
        "\n",
        "\n"
      ],
      "metadata": {
        "colab": {
          "base_uri": "https://localhost:8080/"
        },
        "id": "AXmLxzHPNML_",
        "outputId": "9fae3cad-905d-434f-d140-7e1afefa0831"
      },
      "execution_count": null,
      "outputs": [
        {
          "output_type": "stream",
          "name": "stdout",
          "text": [
            "Odd numbers: [197, 775, 327, 299, 137, 207, 285, 405, 533, 183, 625, 331, 203, 157, 585, 867, 893, 269, 759, 247, 201, 307, 559, 291, 393, 125, 769, 519, 681, 253, 297, 235, 825, 165, 307, 303, 155, 113, 413, 263, 777, 639, 203, 649, 335, 569, 563, 485, 381, 631]\n",
            "Count of odd= 50\n",
            "Even numbers: [432, 624, 770, 836, 754, 708, 438, 308, 412, 372, 538, 252, 748, 692, 552, 376, 752, 698, 376, 390, 864, 422, 208, 486, 808, 610, 422, 520, 286, 290, 712, 590, 218, 552, 226, 784, 282, 582, 668, 884, 526, 548, 710, 348, 424, 310, 162, 728, 726, 674]\n",
            "Count of even = 50\n",
            "Prime numbers= [197, 137, 331, 157, 269, 307, 769, 307, 113, 263, 569, 563, 631]\n",
            "Count of prime numbers= 13\n"
          ]
        }
      ]
    },
    {
      "cell_type": "markdown",
      "source": [
        "Q7. D is a dictionary defined as D={1:\"One\",2:\"Two\",3:\"Three\",4:\"Four\", 5:\"Five\"}.\n",
        "WAP to read all the keys and values from dictionary and write to the file in the given below format.\n",
        "Key1, Value1\n",
        "Key2, Value2\n",
        "Key3, Value3\n"
      ],
      "metadata": {
        "id": "aQD589jSOLjE"
      }
    },
    {
      "cell_type": "code",
      "source": [
        "D = {1: \"One\", 2: \"Two\", 3: \"Three\", 4: \"Four\", 5: \"Five\"}\n",
        "\n",
        "with open(\"file.txt\", \"w\") as file:\n",
        "    for key, value in D.items():\n",
        "        file.write(f\"{key}, {value}\\n\")\n"
      ],
      "metadata": {
        "id": "2H2_gzejORRt"
      },
      "execution_count": null,
      "outputs": []
    },
    {
      "cell_type": "markdown",
      "source": [
        "Q8. Write to the file 100 random strings whose length between 10 and 15.\n"
      ],
      "metadata": {
        "id": "BAAlypNGPYEg"
      }
    },
    {
      "cell_type": "code",
      "source": [
        "import random\n",
        "import string\n",
        "\n",
        "with open(\"random_strings.txt\", \"w\") as file:\n",
        "    for i in range(100):\n",
        "        length = random.randint(10, 15)\n",
        "        rand_str = ''.join(random.choices(string.ascii_letters + string.digits, k=length))\n",
        "        file.write(rand_str + \"\\n\")\n"
      ],
      "metadata": {
        "id": "I_ViWRL1QTFS"
      },
      "execution_count": null,
      "outputs": []
    },
    {
      "cell_type": "markdown",
      "source": [
        "Q9. Write to the file all prime numbers between 600 and 800."
      ],
      "metadata": {
        "id": "hUOwa61lQN25"
      }
    },
    {
      "cell_type": "code",
      "source": [
        "def is_prime(n):\n",
        "    if n < 2:\n",
        "        return False\n",
        "    for i in range(2, int(n//2) + 1):\n",
        "        if n % i == 0:\n",
        "            return False\n"
      ],
      "metadata": {
        "id": "Lab_Fa5DQJim"
      },
      "execution_count": null,
      "outputs": []
    }
  ],
  "metadata": {
    "colab": {
      "toc_visible": true,
      "provenance": [],
      "include_colab_link": true
    },
    "kernelspec": {
      "display_name": "Python 3",
      "name": "python3"
    }
  },
  "nbformat": 4,
  "nbformat_minor": 0
}